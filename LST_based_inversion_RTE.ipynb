{
  "nbformat": 4,
  "nbformat_minor": 0,
  "metadata": {
    "kernelspec": {
      "display_name": "Python 3",
      "language": "python",
      "name": "python3"
    },
    "language_info": {
      "codemirror_mode": {
        "name": "ipython",
        "version": 3
      },
      "file_extension": ".py",
      "mimetype": "text/x-python",
      "name": "python",
      "nbconvert_exporter": "python",
      "pygments_lexer": "ipython3",
      "version": "3.7.4"
    },
    "colab": {
      "name": "LST based inversion RTE.ipynb",
      "provenance": [],
      "collapsed_sections": [],
      "toc_visible": true
    }
  },
  "cells": [
    {
      "cell_type": "code",
      "metadata": {
        "id": "CUcuRcFANGky",
        "outputId": "e95f6402-38d4-4b14-81cc-b257700b7cba",
        "colab": {
          "base_uri": "https://localhost:8080/",
          "height": 326
        }
      },
      "source": [
        "pip install rasterio"
      ],
      "execution_count": null,
      "outputs": [
        {
          "output_type": "stream",
          "text": [
            "Collecting rasterio\n",
            "\u001b[?25l  Downloading https://files.pythonhosted.org/packages/cc/1c/0f36885ac5864b8ad75f167ca1d403666a5f0c3b2ea8ad3366c98a628e99/rasterio-1.1.7-cp36-cp36m-manylinux1_x86_64.whl (18.1MB)\n",
            "\u001b[K     |████████████████████████████████| 18.1MB 247kB/s \n",
            "\u001b[?25hRequirement already satisfied: numpy in /usr/local/lib/python3.6/dist-packages (from rasterio) (1.18.5)\n",
            "Collecting snuggs>=1.4.1\n",
            "  Downloading https://files.pythonhosted.org/packages/cc/0e/d27d6e806d6c0d1a2cfdc5d1f088e42339a0a54a09c3343f7f81ec8947ea/snuggs-1.4.7-py3-none-any.whl\n",
            "Collecting click-plugins\n",
            "  Downloading https://files.pythonhosted.org/packages/e9/da/824b92d9942f4e472702488857914bdd50f73021efea15b4cad9aca8ecef/click_plugins-1.1.1-py2.py3-none-any.whl\n",
            "Requirement already satisfied: click<8,>=4.0 in /usr/local/lib/python3.6/dist-packages (from rasterio) (7.1.2)\n",
            "Requirement already satisfied: attrs in /usr/local/lib/python3.6/dist-packages (from rasterio) (20.2.0)\n",
            "Collecting cligj>=0.5\n",
            "  Downloading https://files.pythonhosted.org/packages/e4/be/30a58b4b0733850280d01f8bd132591b4668ed5c7046761098d665ac2174/cligj-0.5.0-py3-none-any.whl\n",
            "Collecting affine\n",
            "  Downloading https://files.pythonhosted.org/packages/ac/a6/1a39a1ede71210e3ddaf623982b06ecfc5c5c03741ae659073159184cd3e/affine-2.3.0-py2.py3-none-any.whl\n",
            "Requirement already satisfied: pyparsing>=2.1.6 in /usr/local/lib/python3.6/dist-packages (from snuggs>=1.4.1->rasterio) (2.4.7)\n",
            "Installing collected packages: snuggs, click-plugins, cligj, affine, rasterio\n",
            "Successfully installed affine-2.3.0 click-plugins-1.1.1 cligj-0.5.0 rasterio-1.1.7 snuggs-1.4.7\n"
          ],
          "name": "stdout"
        }
      ]
    },
    {
      "cell_type": "code",
      "metadata": {
        "id": "ahhFCjeGKzxW"
      },
      "source": [
        "import os\n",
        "import numpy as np\n",
        "import imageio\n",
        "import imageio as im\n",
        "import gdal\n",
        "import rasterio \n",
        "from glob import glob\n",
        "import matplotlib.pyplot as plt"
      ],
      "execution_count": null,
      "outputs": []
    },
    {
      "cell_type": "markdown",
      "metadata": {
        "id": "UMcyv7h2Kzxf"
      },
      "source": [
        "### IMPORTANDO VARIÁVEIS DO METADADO PARA CALIBRAÇÃO RADIOMÉTRICA###"
      ]
    },
    {
      "cell_type": "code",
      "metadata": {
        "id": "pZ_Pk0CYKzxh"
      },
      "source": [
        "## 1 CONSTANTES PARA CALIBRAÇÃO RADIOMÉTRICA (transformando de ND para Radiância TOA em Wm-2sr-1um-1)\n",
        "\n",
        "## 1.1 Extraindo fator de escala multiplicativo da banda a partir do metadata da cena (MULT)\n",
        "\n",
        "\n",
        "MULT = 'MULT_BAND_10'\n",
        "def encontrar(MULT):\n",
        "    with open('caminho_metadata.txt', 'r') as MTL:\n",
        "        linhas = MTL.readlines()\n",
        "        for i in range(len(linhas)):\n",
        "            if 'MULT_BAND_10' in linhas[i]:\n",
        "                a = linhas[i].split('=')[-1].strip('\\n')\n",
        "                \n",
        "    return a\n",
        "ML = encontrar(MULT)\n",
        "\n",
        "################################################################################################################################\n",
        "\n",
        "## 1.2 Extraindo fator de escala aditivo da banda a partir do metadata da cena (ADD)\n",
        "\n",
        "\n",
        "ADD = 'ADD_BAND_10'\n",
        "def encontrar(ADD):\n",
        "    with open('caminho_metadata.txt', 'r') as MTL:\n",
        "        linhas = MTL.readlines()\n",
        "        for i in range(len(linhas)):\n",
        "            if 'ADD_BAND_10' in linhas[i]:\n",
        "                b = linhas[i].split('=')[-1].strip('\\n')\n",
        "                \n",
        "    return b\n",
        "AL = encontrar(ADD)"
      ],
      "execution_count": null,
      "outputs": []
    },
    {
      "cell_type": "markdown",
      "metadata": {
        "id": "Ynf0q8vHKzxo"
      },
      "source": [
        "### IMPORTANDO BANDA THERMAL EM ND ###"
      ]
    },
    {
      "cell_type": "code",
      "metadata": {
        "id": "9Uf-tenHKzxq"
      },
      "source": [
        "#IMPORTANDO IMAGEM INTEIRA\n",
        "banda10 = glob('caminho_da_banda.TIF')  #inserir o diretório no qual a banda se encontra\n",
        "with rasterio.open(banda10[0]) as src:\n",
        "    b10= src.read(1)\n",
        "b_10 = b10.astype(float)\n",
        "kwargs = src.meta.copy()\n",
        "kwargs.update({'dtype': 'float64'})\n",
        "\n",
        "#PARA RECORTAR IMAGEM:\n",
        "#window = rasterio.windows.Window(2720, 3132, 1, 1) #col_off, row_off, width, height  #exemplo para 1 pixel\n",
        "#window\n",
        "#banda10 = glob('/content/LC08_L1TP_220081_20180314_20180320_01_T1_B10.TIF') #inserir diretório da imagem\n",
        "#with rasterio.open(banda10[0]) as src:\n",
        "    #b10= src.read(1, window=window)\n",
        "#b_10 = b10.astype(float)\n",
        "#kwargs = src.meta.copy()\n",
        "#kwargs.update({'dtype': 'float64'})"
      ],
      "execution_count": null,
      "outputs": []
    },
    {
      "cell_type": "markdown",
      "metadata": {
        "id": "1GMnS0anKzxx"
      },
      "source": [
        "### EXECUTANDO A CALIBRAÇÃO RADIOMÉTRICA ###"
      ]
    },
    {
      "cell_type": "code",
      "metadata": {
        "id": "t3NHZ6YxKzxz"
      },
      "source": [
        "ml = float(ML) #fator de escala multiplicativo da banda\n",
        "al = float(AL) #fator de escala aditivo da banda\n",
        "\n",
        "#função para calibração radiométrica\n",
        "\n",
        "def radcal(b_10):\n",
        "    for i in b_10:\n",
        "        radiance = (ml*b_10) + al\n",
        "    return radiance\n",
        "\n",
        "Lsens = radcal(b_10).astype(float) #obtendo Radiância TOA em Wm-2sr-1um-1\n",
        "\n",
        "with rasterio.open('Radiance_TOA_BX.tiff', 'w', **kwargs) as dst: #exportando imagem final com calibração radiométrica \n",
        "    dst.write(Lsens.astype(rasterio.float64),1)"
      ],
      "execution_count": null,
      "outputs": []
    },
    {
      "cell_type": "markdown",
      "metadata": {
        "id": "zaQuCF5HKzx7"
      },
      "source": [
        "### RECUPERAÇÃO TEMPERATURA DA SUPERFÍCIE TERRESTRE (TST) PELA INVERSÃO DA EQUAÇÃO DA TRANSFERÊNCIA RADIATIVA/RADIATIVE TRANSFER EQUATION (RTE) ###"
      ]
    },
    {
      "cell_type": "code",
      "metadata": {
        "id": "MIVu4Fk4Kzx8"
      },
      "source": [
        "#DEFINIÇAO DAS VARIÁVEIS PARA RECUPERAR TST PELA INVERSÃO DA RTE\n",
        "\n",
        "#Definição do comprimento de onda efetivo da banda\n",
        "\n",
        "lamb = 10.904 #Aqui, no exemplo, é da banda 10, sensor TIRS\n",
        "\n",
        "#Definição emissividade do alvo no comprimento de onda efetivo\n",
        "\n",
        "emis = 0.9798 #Exemplo de emissividade do quartzo calculada a partir de radiância registrada em campo com uFTIR\n",
        "\n",
        "#Definição das constantes derivadas da equação de Planck\n",
        "\n",
        "c1= 1.19104*(10**8) #Wµm4m-2sr-1 \n",
        "c2= 14387.7 #µmK\n",
        "\n",
        "#Definição das variáveis atmosféricas (podem ser obtidas pela calculadora de parâmetros de correção atmosférica (BARSI et al., 2003,2005)\n",
        "\n",
        "Lu = 2.60 #Radiância atmosférica no sentido ascendente ou upwelling radiance\n",
        "Ld = 4.12 #Radiância atmosférica no sentido descendente ou downwelling radiance\n",
        "trans = 0.7 #transmitância atmosférica\n"
      ],
      "execution_count": null,
      "outputs": []
    },
    {
      "cell_type": "markdown",
      "metadata": {
        "id": "5hVjEDL2KzyC"
      },
      "source": [
        "### ESTIMANDO A TST PELA INVERSÃO DA RTE ###"
      ]
    },
    {
      "cell_type": "code",
      "metadata": {
        "id": "XqK0uYYKKzyD"
      },
      "source": [
        "#Função para estimar a TST pela RTE\n",
        "\n",
        "def temp_RTE(Lsens):\n",
        "    for i in Lsens:\n",
        "        a = c1/((lamb**5)*(((Lsens-Lu)/(emis*trans))-((1-emis)/emis)*Ld))\n",
        "        b = (np.log(a+1))**-1\n",
        "        temp = (c2/lamb)*b\n",
        "    return temp\n",
        "\n",
        "temp_RTE = temp_RTE(Lsens).astype(float) #obtendo TST em Kelvin\n",
        "\n",
        "with rasterio.open('Land_Surface_Temperature.tiff', 'w', **kwargs) as dst: #exportando imagem final de recuperação da TST para o diretório do projeto\n",
        "    dst.write(temp_RTE.astype(rasterio.float64),1)"
      ],
      "execution_count": null,
      "outputs": []
    }
  ]
}